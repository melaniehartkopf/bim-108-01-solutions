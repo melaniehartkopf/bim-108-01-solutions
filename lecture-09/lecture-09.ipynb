{
 "cells": [
  {
   "cell_type": "markdown",
   "metadata": {
    "deletable": false
   },
   "source": [
    "# SPARQL: Die RDF Abfragesprache"
   ]
  },
  {
   "cell_type": "markdown",
   "metadata": {
    "deletable": false
   },
   "source": [
    "In dieser Übung schauen wir uns die SPARQL Abfragesprache für RDF in der Praxis an. Wir verwenden dafür etwas RDF mit der Pink Floyd Diskographie und führen einige Abfragen aus. Zum Schluss schreiben Sie dann Ihr eigenes RDF und einige SPARQL Abfragen dazu."
   ]
  },
  {
   "cell_type": "code",
   "execution_count": null,
   "metadata": {
    "deletable": false
   },
   "outputs": [],
   "source": [
    "!pip install rdflib"
   ]
  },
  {
   "cell_type": "code",
   "execution_count": null,
   "metadata": {
    "deletable": false
   },
   "outputs": [],
   "source": [
    "import pandas as pd\n",
    "from io import BytesIO, StringIO\n",
    "from rdflib import Graph\n",
    "from rdflib.plugins.sparql.results.csvresults import CSVResultSerializer\n",
    "from IPython.display import display\n",
    "\n",
    "rdf = \"\"\"\n",
    "@prefix ex: <http://example.org#> .\n",
    "@prefix rdf: <http://www.w3.org/1999/02/22-rdf-syntax-ns#> .\n",
    "@prefix xsd: <http://www.w3.org/2001/XMLSchema#> .\n",
    "\n",
    "[] a ex:Album ;\n",
    "   ex:title \"The Dark Side of the Moon\"^^xsd:string ;\n",
    "   ex:label \"Harvest, EMI\"@en ;\n",
    "   ex:released [ \n",
    "     ex:day \"16\"^^xsd:int ;\n",
    "     ex:month \"03\"^^xsd:int ;\n",
    "     ex:year \"1973\"^^xsd:int \n",
    "   ] .\n",
    "   \n",
    "[] a ex:Album ;\n",
    "   ex:title \"The Wall\" ;\n",
    "   ex:label \"Harvest, EMI\" ;\n",
    "   ex:released [ \n",
    "     ex:day 30 ;\n",
    "     ex:month \"11\"^^xsd:string ;\n",
    "     ex:year \"1979\"^^xsd:int \n",
    "   ] .\n",
    "\n",
    "[] a ex:Single ;\n",
    "   ex:title \"What God Wants, Part 1\"^^xsd:string ;\n",
    "   ex:author [\n",
    "     ex:firstname \"Roger\" ;\n",
    "     ex:lastname \"Waters\"\n",
    "   ] ;\n",
    "   ex:released [ \n",
    "     ex:year \"1992\"^^xsd:int \n",
    "   ] .\n",
    "\"\"\"\n",
    "\n",
    "g = Graph()\n",
    "\n",
    "r = g.parse(data=rdf, format='turtle')\n",
    "\n",
    "def query(q):\n",
    "    serializer = CSVResultSerializer(g.query(q))\n",
    "    output = BytesIO()\n",
    "    serializer.serialize(output)\n",
    "    display(pd.read_csv(StringIO(output.getvalue().decode())))"
   ]
  },
  {
   "cell_type": "markdown",
   "metadata": {
    "deletable": false
   },
   "source": [
    "Führen Sie nun die folgenden Abfragen aus und beantworten Sie die Fragen."
   ]
  },
  {
   "cell_type": "code",
   "execution_count": null,
   "metadata": {
    "deletable": false
   },
   "outputs": [],
   "source": [
    "query(\"\"\"\n",
    "SELECT ?title WHERE { \n",
    "  ?work ex:title ?title\n",
    "}\n",
    "\"\"\")"
   ]
  },
  {
   "cell_type": "code",
   "execution_count": null,
   "metadata": {
    "deletable": false
   },
   "outputs": [],
   "source": [
    "query(\"\"\"\n",
    "SELECT ?work ?title WHERE { \n",
    "  ?work ex:title ?title\n",
    "}\n",
    "\"\"\")"
   ]
  },
  {
   "cell_type": "code",
   "execution_count": null,
   "metadata": {
    "deletable": false
   },
   "outputs": [],
   "source": [
    "query(\"\"\"\n",
    "SELECT ?title WHERE { \n",
    "  [] ex:title ?title\n",
    "}\n",
    "\"\"\")\n",
    "\n",
    "# Was ist der Unterschied zum vorherigem Beispiel? Antwort: "
   ]
  },
  {
   "cell_type": "code",
   "execution_count": null,
   "metadata": {
    "deletable": false
   },
   "outputs": [],
   "source": [
    "query(\"\"\"\n",
    "SELECT ?title WHERE { \n",
    "  [] rdf:type ex:Album ; \n",
    "     ex:title ?title\n",
    "}\n",
    "\"\"\")\n",
    "\n",
    "# Warum nur zwei Resultate? Antwort: "
   ]
  },
  {
   "cell_type": "code",
   "execution_count": null,
   "metadata": {
    "deletable": false
   },
   "outputs": [],
   "source": [
    "query(\"\"\"\n",
    "SELECT ?s ?p ?o WHERE { \n",
    "  ?s ?p ?o\n",
    "}\n",
    "\"\"\")\n",
    "\n",
    "# Was erhält man hier? Antwort: "
   ]
  },
  {
   "cell_type": "code",
   "execution_count": null,
   "metadata": {
    "deletable": false
   },
   "outputs": [],
   "source": [
    "query(\"\"\"\n",
    "SELECT ?title ?year WHERE { \n",
    "  [] rdf:type ex:Album ; \n",
    "     ex:title ?title ;\n",
    "     ex:released [ ex:year ?year ]\n",
    "  FILTER (?year > 1973)\n",
    "}\n",
    "\"\"\")"
   ]
  },
  {
   "cell_type": "code",
   "execution_count": null,
   "metadata": {
    "deletable": false
   },
   "outputs": [],
   "source": [
    "query(\"\"\"\n",
    "SELECT ?title ?year WHERE { \n",
    "  {\n",
    "    [] rdf:type ex:Album ; \n",
    "       ex:title ?title ;\n",
    "       ex:released [ ex:year ?year ]\n",
    "    FILTER (?year > 1973)\n",
    "  }\n",
    "  UNION\n",
    "  {\n",
    "    [] rdf:type ex:Single ; \n",
    "       ex:title ?title ;\n",
    "       ex:released [ ex:year ?year ]\n",
    "    FILTER (?year <= 2000 )\n",
    "  }\n",
    "}\n",
    "\"\"\")"
   ]
  },
  {
   "cell_type": "code",
   "execution_count": null,
   "metadata": {
    "deletable": false
   },
   "outputs": [],
   "source": [
    "query(\"\"\"\n",
    "SELECT ?title ?label WHERE { \n",
    "    ?work ex:title ?title .\n",
    "    OPTIONAL { ?work ex:label ?label }\n",
    "}\n",
    "\"\"\")\n",
    "\n",
    "# Warum ist der label von \"What God Wants, Part 1\" NaN? Antwort: "
   ]
  },
  {
   "cell_type": "code",
   "execution_count": null,
   "metadata": {
    "deletable": false
   },
   "outputs": [],
   "source": [
    "query(\"\"\"\n",
    "SELECT ?title WHERE { \n",
    "  [] rdf:type ex:Album ;\n",
    "     ex:title ?title ;\n",
    "     ex:label ?label\n",
    "  FILTER (LANG(?label) = \"en\")\n",
    "}\n",
    "\"\"\")"
   ]
  },
  {
   "cell_type": "code",
   "execution_count": null,
   "metadata": {
    "deletable": false
   },
   "outputs": [],
   "source": [
    "query(\"\"\"\n",
    "SELECT ?title WHERE { \n",
    "  [] rdf:type ex:Album ;\n",
    "     ex:title ?title ;\n",
    "     ex:released [ ex:day ?day ]\n",
    "  FILTER (?day > 15)\n",
    "}\n",
    "\"\"\")"
   ]
  },
  {
   "cell_type": "code",
   "execution_count": null,
   "metadata": {
    "deletable": false
   },
   "outputs": [],
   "source": [
    "query(\"\"\"\n",
    "SELECT ?title WHERE { \n",
    "  [] rdf:type ex:Album ;\n",
    "     ex:title ?title ;\n",
    "     ex:released [ ex:month ?month ]\n",
    "  FILTER (DATATYPE(?month) = xsd:string)\n",
    "}\n",
    "\"\"\")\n",
    "\n",
    "# Warum erhält man hier nur \"The Wall\" als Resultat? Antwort: "
   ]
  },
  {
   "cell_type": "markdown",
   "metadata": {
    "deletable": false
   },
   "source": [
    "Schreiben Sie nun ihr eigenes RDF und werten Sie einige SPARQL Abfragen aus."
   ]
  },
  {
   "cell_type": "code",
   "execution_count": null,
   "metadata": {
    "deletable": false
   },
   "outputs": [],
   "source": [
    "rdf = \"\"\"\n",
    "... Mein RDF ...\n",
    "\"\"\"\n",
    "\n",
    "g = Graph()\n",
    "\n",
    "r = g.parse(data=rdf, format='turtle')"
   ]
  },
  {
   "cell_type": "code",
   "execution_count": null,
   "metadata": {
    "deletable": false
   },
   "outputs": [],
   "source": [
    "query(\"\"\"\n",
    "... Meine SPARQL Abfrage ...\n",
    "\"\"\")"
   ]
  }
 ],
 "metadata": {
  "kernelspec": {
   "display_name": "Python 3",
   "language": "python",
   "name": "python3"
  },
  "language_info": {
   "codemirror_mode": {
    "name": "ipython",
    "version": 3
   },
   "file_extension": ".py",
   "mimetype": "text/x-python",
   "name": "python",
   "nbconvert_exporter": "python",
   "pygments_lexer": "ipython3",
   "version": "3.6.4"
  }
 },
 "nbformat": 4,
 "nbformat_minor": 2
}
